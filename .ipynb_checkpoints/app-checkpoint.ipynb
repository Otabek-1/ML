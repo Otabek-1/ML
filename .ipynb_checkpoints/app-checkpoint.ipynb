import matplotlib.pyplot as plt
# Ma'lumotlar
x = [1, 2, 3, 4, 5]
y = [2, 4, 6, 8, 10]

# Grafikni yaratish
plt.plot(x, y, label='Chiziq 1', color='blue', marker='o')
plt.xlabel('X o‘qi')
plt.ylabel('Y o‘qi')
plt.title('Oddiy Chiziqli Grafik')
plt.legend()
plt.show()